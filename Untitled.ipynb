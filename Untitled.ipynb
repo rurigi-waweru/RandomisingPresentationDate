{
 "cells": [
  {
   "cell_type": "code",
   "execution_count": 1,
   "metadata": {},
   "outputs": [
    {
     "data": {
      "text/plain": [
       "['Thursday',\n",
       " 'Friday',\n",
       " 'Thursday',\n",
       " 'Friday',\n",
       " 'Thursday',\n",
       " 'Friday',\n",
       " 'Friday',\n",
       " 'Thursday',\n",
       " 'Friday',\n",
       " 'Friday',\n",
       " 'Friday',\n",
       " 'Thursday',\n",
       " 'Thursday',\n",
       " 'Thursday',\n",
       " 'Friday',\n",
       " 'Friday',\n",
       " 'Thursday',\n",
       " 'Thursday',\n",
       " 'Thursday',\n",
       " 'Friday',\n",
       " 'Thursday',\n",
       " 'Friday',\n",
       " 'Friday',\n",
       " 'Friday',\n",
       " 'Thursday',\n",
       " 'Thursday',\n",
       " 'Thursday',\n",
       " 'Thursday',\n",
       " 'Friday',\n",
       " 'Friday',\n",
       " 'Thursday',\n",
       " 'Thursday',\n",
       " 'Thursday',\n",
       " 'Thursday',\n",
       " 'Friday',\n",
       " 'Thursday',\n",
       " 'Thursday',\n",
       " 'Thursday',\n",
       " 'Friday',\n",
       " 'Friday',\n",
       " 'Thursday',\n",
       " 'Thursday',\n",
       " 'Thursday',\n",
       " 'Friday',\n",
       " 'Friday',\n",
       " 'Friday',\n",
       " 'Thursday',\n",
       " 'Thursday',\n",
       " 'Thursday',\n",
       " 'Friday',\n",
       " 'Friday',\n",
       " 'Friday',\n",
       " 'Thursday',\n",
       " 'Thursday',\n",
       " 'Friday',\n",
       " 'Thursday',\n",
       " 'Thursday',\n",
       " 'Thursday',\n",
       " 'Friday',\n",
       " 'Friday',\n",
       " 'Friday',\n",
       " 'Thursday',\n",
       " 'Thursday',\n",
       " 'Friday',\n",
       " 'Friday',\n",
       " 'Thursday',\n",
       " 'Friday',\n",
       " 'Friday',\n",
       " 'Thursday',\n",
       " 'Friday',\n",
       " 'Friday',\n",
       " 'Thursday',\n",
       " 'Thursday',\n",
       " 'Thursday',\n",
       " 'Friday',\n",
       " 'Friday',\n",
       " 'Friday',\n",
       " 'Thursday',\n",
       " 'Friday',\n",
       " 'Thursday']"
      ]
     },
     "execution_count": 1,
     "metadata": {},
     "output_type": "execute_result"
    }
   ],
   "source": [
    "from numpy import random\n",
    "\n",
    "frame_list = []\n",
    "\n",
    "\n",
    "for i in range(80):\n",
    "    frame_list.append(random.choice([\"Thursday\", \"Friday\"]))\n",
    "\n",
    "# print(x)\n",
    "frame_list"
   ]
  },
  {
   "cell_type": "code",
   "execution_count": 2,
   "metadata": {},
   "outputs": [],
   "source": [
    "frame_list.sort()"
   ]
  },
  {
   "cell_type": "code",
   "execution_count": 3,
   "metadata": {},
   "outputs": [
    {
     "name": "stdout",
     "output_type": "stream",
     "text": [
      "38\n",
      "42\n"
     ]
    }
   ],
   "source": [
    "print(frame_list.count('Friday'))\n",
    "print(frame_list.count('Thursday'))"
   ]
  },
  {
   "cell_type": "code",
   "execution_count": 4,
   "metadata": {},
   "outputs": [
    {
     "name": "stdout",
     "output_type": "stream",
     "text": [
      "41: Friday\n",
      "42: Friday\n",
      "43: Friday\n",
      "44: Friday\n",
      "45: Friday\n",
      "46: Friday\n",
      "47: Friday\n",
      "48: Friday\n",
      "49: Friday\n",
      "50: Friday\n",
      "51: Friday\n",
      "52: Friday\n",
      "53: Friday\n",
      "54: Friday\n",
      "55: Friday\n",
      "56: Friday\n",
      "57: Friday\n",
      "58: Friday\n",
      "59: Friday\n",
      "60: Friday\n",
      "61: Friday\n",
      "62: Friday\n",
      "63: Friday\n",
      "64: Friday\n",
      "65: Friday\n",
      "66: Friday\n",
      "67: Friday\n",
      "68: Friday\n",
      "69: Friday\n",
      "70: Friday\n",
      "71: Friday\n",
      "72: Friday\n",
      "73: Friday\n",
      "74: Friday\n",
      "75: Friday\n",
      "76: Friday\n",
      "77: Friday\n",
      "78: Friday\n",
      "79: Friday\n",
      "80: Friday\n"
     ]
    }
   ],
   "source": [
    "for i in range(80):\n",
    "    if i < 40:\n",
    "#         print(f'{i+1}: Thurday, {8:00 +}')\n",
    "        pass\n",
    "    else:\n",
    "        print(f'{i+1}: Friday')"
   ]
  },
  {
   "cell_type": "code",
   "execution_count": 5,
   "metadata": {},
   "outputs": [
    {
     "ename": "NameError",
     "evalue": "name 'new_time' is not defined",
     "output_type": "error",
     "traceback": [
      "\u001b[1;31m---------------------------------------------------------------------------\u001b[0m",
      "\u001b[1;31mNameError\u001b[0m                                 Traceback (most recent call last)",
      "\u001b[1;32m<ipython-input-5-0f3bc2d63f87>\u001b[0m in \u001b[0;36m<module>\u001b[1;34m\u001b[0m\n\u001b[0;32m     10\u001b[0m \u001b[1;32mfor\u001b[0m \u001b[0mi\u001b[0m \u001b[1;32min\u001b[0m \u001b[0mrange\u001b[0m\u001b[1;33m(\u001b[0m\u001b[1;36m5\u001b[0m\u001b[1;33m)\u001b[0m\u001b[1;33m:\u001b[0m\u001b[1;33m\u001b[0m\u001b[1;33m\u001b[0m\u001b[0m\n\u001b[0;32m     11\u001b[0m     \u001b[0mtime_change\u001b[0m \u001b[1;33m=\u001b[0m \u001b[0mdatetime\u001b[0m\u001b[1;33m.\u001b[0m\u001b[0mtimedelta\u001b[0m\u001b[1;33m(\u001b[0m\u001b[0mminutes\u001b[0m\u001b[1;33m=\u001b[0m\u001b[1;36m15\u001b[0m\u001b[1;33m)\u001b[0m\u001b[1;33m\u001b[0m\u001b[1;33m\u001b[0m\u001b[0m\n\u001b[1;32m---> 12\u001b[1;33m     \u001b[0mnew_time\u001b[0m \u001b[1;33m=\u001b[0m \u001b[0mnew_time\u001b[0m \u001b[1;33m+\u001b[0m \u001b[0mtime_change\u001b[0m\u001b[1;33m\u001b[0m\u001b[1;33m\u001b[0m\u001b[0m\n\u001b[0m\u001b[0;32m     13\u001b[0m     \u001b[0mprint\u001b[0m\u001b[1;33m(\u001b[0m\u001b[0mnew_time\u001b[0m\u001b[1;33m)\u001b[0m\u001b[1;33m\u001b[0m\u001b[1;33m\u001b[0m\u001b[0m\n",
      "\u001b[1;31mNameError\u001b[0m: name 'new_time' is not defined"
     ]
    }
   ],
   "source": [
    "# Python3 code to illustrate the addition \n",
    "# of time onto the datetime object \n",
    "  \n",
    "# Importing datetime \n",
    "import datetime \n",
    "  \n",
    "# Initializing a date and time \n",
    "date_and_time = datetime.datetime(2021, 8, 22, 8, 0, 0) \n",
    "\n",
    "for i in range(5):\n",
    "    time_change = datetime.timedelta(minutes=15)\n",
    "    new_time = new_time + time_change \n",
    "    print(new_time)"
   ]
  },
  {
   "cell_type": "markdown",
   "metadata": {},
   "source": [
    "# Link to Repo"
   ]
  },
  {
   "cell_type": "markdown",
   "metadata": {},
   "source": [
    "Link: [https://github.com/rurigi-waweru/RandomisingPresentationDate.git]"
   ]
  },
  {
   "cell_type": "markdown",
   "metadata": {},
   "source": [
    "# Link to Reference Materials"
   ]
  },
  {
   "cell_type": "markdown",
   "metadata": {},
   "source": [
    "[link]: [https://www.geeksforgeeks.org/how-to-add-time-onto-a-datetime-object-in-python/]"
   ]
  },
  {
   "cell_type": "markdown",
   "metadata": {},
   "source": [
    "[Link] [https://www.geeksforgeeks.org/how-to-add-time-onto-a-datetime-object-in-python/]"
   ]
  },
  {
   "cell_type": "code",
   "execution_count": null,
   "metadata": {},
   "outputs": [],
   "source": [
    "# Python3 code to illustrate the addition \n",
    "# of time onto the datetime object \n",
    "  \n",
    "# Importing datetime \n",
    "import datetime \n",
    "  \n",
    "# Initializing a date and time \n",
    "date_and_time = datetime.datetime(2021, 8, 22, 11, 2, 5) \n",
    "  \n",
    "print(\"Original time:\") \n",
    "print(date_and_time) \n",
    "  \n",
    "# Calling the timedelta() function  \n",
    "time_change = datetime.timedelta(minutes=75) \n",
    "new_time = date_and_time + time_change \n",
    "  \n",
    "# Printing the new datetime object \n",
    "print(\"changed time:\") \n",
    "print(new_time)"
   ]
  },
  {
   "cell_type": "code",
   "execution_count": null,
   "metadata": {},
   "outputs": [],
   "source": []
  }
 ],
 "metadata": {
  "kernelspec": {
   "display_name": "Python 3",
   "language": "python",
   "name": "python3"
  },
  "language_info": {
   "codemirror_mode": {
    "name": "ipython",
    "version": 3
   },
   "file_extension": ".py",
   "mimetype": "text/x-python",
   "name": "python",
   "nbconvert_exporter": "python",
   "pygments_lexer": "ipython3",
   "version": "3.8.5"
  }
 },
 "nbformat": 4,
 "nbformat_minor": 4
}
